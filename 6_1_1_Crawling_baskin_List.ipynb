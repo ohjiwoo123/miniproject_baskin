{
 "cells": [
  {
   "cell_type": "code",
   "execution_count": null,
   "id": "de64d88d",
   "metadata": {
    "id": "de64d88d",
    "outputId": "43710a2f-fa91-4211-9032-36bf5e530422"
   },
   "outputs": [
    {
     "name": "stdout",
     "output_type": "stream",
     "text": [
      "Collecting openpyxl\n",
      "  Using cached openpyxl-3.0.7-py2.py3-none-any.whl (243 kB)\n",
      "Collecting et-xmlfile\n",
      "  Using cached et_xmlfile-1.1.0-py3-none-any.whl (4.7 kB)\n",
      "Installing collected packages: et-xmlfile, openpyxl\n",
      "Successfully installed et-xmlfile-1.1.0 openpyxl-3.0.7\n"
     ]
    }
   ],
   "source": [
    "!pip install openpyxl"
   ]
  },
  {
   "cell_type": "code",
   "execution_count": null,
   "id": "32aff9dd",
   "metadata": {
    "id": "32aff9dd",
    "outputId": "c0d6e9bd-511f-49ad-f8a2-ed04e15e6ace"
   },
   "outputs": [
    {
     "name": "stdout",
     "output_type": "stream",
     "text": [
      "Requirement already satisfied: selenium in /Users/jwoh/opt/miniconda3/envs/opencv/lib/python3.7/site-packages (3.141.0)\r\n",
      "Requirement already satisfied: urllib3 in /Users/jwoh/opt/miniconda3/envs/opencv/lib/python3.7/site-packages (from selenium) (1.26.6)\r\n"
     ]
    }
   ],
   "source": [
    "!pip install selenium"
   ]
  },
  {
   "cell_type": "code",
   "execution_count": null,
   "id": "7b852792",
   "metadata": {
    "id": "7b852792",
    "outputId": "14a6a054-4f56-4fb8-feea-40fa37dfbdb6"
   },
   "outputs": [
    {
     "name": "stdout",
     "output_type": "stream",
     "text": [
      "Requirement already satisfied: bs4 in /Users/jwoh/opt/miniconda3/envs/opencv/lib/python3.7/site-packages (0.0.1)\r\n",
      "Requirement already satisfied: beautifulsoup4 in /Users/jwoh/opt/miniconda3/envs/opencv/lib/python3.7/site-packages (from bs4) (4.9.3)\r\n",
      "Requirement already satisfied: soupsieve>1.2 in /Users/jwoh/opt/miniconda3/envs/opencv/lib/python3.7/site-packages (from beautifulsoup4->bs4) (2.2.1)\r\n"
     ]
    }
   ],
   "source": [
    "!pip install bs4"
   ]
  },
  {
   "cell_type": "code",
   "execution_count": null,
   "id": "0730e79e",
   "metadata": {
    "id": "0730e79e",
    "outputId": "3bf3e7b1-ec56-42cc-a392-dba18ff22eef"
   },
   "outputs": [
    {
     "name": "stdout",
     "output_type": "stream",
     "text": [
      "Collecting pandas\n",
      "  Downloading pandas-1.3.2-cp37-cp37m-macosx_10_9_x86_64.whl (11.3 MB)\n",
      "\u001b[K     |████████████████████████████████| 11.3 MB 61.3 MB/s eta 0:00:01\n",
      "\u001b[?25hRequirement already satisfied: python-dateutil>=2.7.3 in /Users/jwoh/opt/miniconda3/envs/opencv/lib/python3.7/site-packages (from pandas) (2.8.2)\n",
      "Collecting pytz>=2017.3\n",
      "  Using cached pytz-2021.1-py2.py3-none-any.whl (510 kB)\n",
      "Requirement already satisfied: numpy>=1.17.3 in /Users/jwoh/opt/miniconda3/envs/opencv/lib/python3.7/site-packages (from pandas) (1.21.1)\n",
      "Requirement already satisfied: six>=1.5 in /Users/jwoh/opt/miniconda3/envs/opencv/lib/python3.7/site-packages (from python-dateutil>=2.7.3->pandas) (1.16.0)\n",
      "Installing collected packages: pytz, pandas\n",
      "Successfully installed pandas-1.3.2 pytz-2021.1\n"
     ]
    }
   ],
   "source": [
    "! pip install pandas"
   ]
  },
  {
   "cell_type": "code",
   "execution_count": 22,
   "id": "2e28783c",
   "metadata": {
    "id": "2e28783c",
    "outputId": "182c5d50-56c1-4591-dcf8-be2a367f0ebf"
   },
   "outputs": [
    {
     "name": "stdout",
     "output_type": "stream",
     "text": [
      "Count Crawling : 1 page\n",
      "Count Crawling : 2 page\n",
      "Count Crawling : 3 page\n",
      "Count Crawling : 4 page\n",
      "Count Crawling : 5 page\n",
      "Count Crawling : 6 page\n",
      "Count Crawling : 7 page\n",
      "Count Crawling : 8 page\n",
      "Count Crawling : 9 page\n",
      "Count Crawling : 10 page\n",
      "Count Crawling : 11 page\n",
      "Count Crawling : 12 page\n",
      "Count Crawling : 13 page\n",
      "Count Crawling : 14 page\n",
      "Count Crawling : 15 page\n",
      "Count Crawling : 16 page\n",
      "Count Crawling : 17 page\n",
      "Count Crawling : 18 page\n",
      "Count Crawling : 19 page\n",
      "Count Crawling : 20 page\n",
      "Count Crawling : 21 page\n"
     ]
    }
   ],
   "source": [
    "# 필요 라이브러리\n",
    "from selenium import webdriver\n",
    "from selenium.webdriver.common.keys import Keys\n",
    "import urllib.request\n",
    "import time\n",
    "from bs4 import BeautifulSoup\n",
    "from selenium.webdriver.common.action_chains import ActionChains\n",
    "import pandas as pd\n",
    "\n",
    "# 배스킨라빈스 매장 정보를 담을 리스트\n",
    "baskin_list = []\n",
    "\n",
    "# 크롤링 페이지 숫자를 세기 위한 count \n",
    "count = 0\n",
    "\n",
    "def countCrawling() :\n",
    "    print(\"Count Crawling : {} page\".format(count))\n",
    "\n",
    "# 스크롤 다운 함수 \n",
    "def scroll_down():\n",
    "    # next버튼\n",
    "    next_btn = 'info.search.page.next'\n",
    "    # 스크롤 다운 (Scroll Down)\n",
    "    SCROLL_PAUSE_TIME = 1\n",
    "    # Get scroll height\n",
    "    last_height = driver.execute_script(\"return document.body.scrollHeight\")\n",
    "    # Wait to load page\n",
    "    time.sleep(SCROLL_PAUSE_TIME)\n",
    "    # Calculate new scroll height and compare with last scroll height\n",
    "    new_height = driver.execute_script(\"return document.body.scrollHeight\")\n",
    "    # 스크롤을 내릴 곳이 없다면\n",
    "    if new_height == last_height:\n",
    "        # 다음 페이지 숫자의 버튼을 누른다.\n",
    "        next_btn_click()\n",
    "\n",
    "# 더보기 버튼을 누르는 함수 (더보기 버튼을 누르면 자동으로 page num이 2가 된다.)\n",
    "def more_btn_click():\n",
    "    # 쉬는시간 1초\n",
    "    SCROLL_PAUSE_TIME = 1\n",
    "    # 더보기 버튼\n",
    "    more_btn = 'info.search.place.more'\n",
    "    # 더보기 버튼을 찾아서 누른다.\n",
    "    button = driver.find_element_by_id(more_btn)\n",
    "    ActionChains(driver).move_to_element(button).click().perform()\n",
    "    ActionChains(driver).move_to_element(button).click().perform()\n",
    "    time.sleep(SCROLL_PAUSE_TIME)\n",
    "\n",
    "# 다음 페이지 숫자를 누르는 함수 \n",
    "def next_btn_click():\n",
    "    # 2~5페이지 까지를 xpath로 찾아서 버튼을 누른다.\n",
    "\n",
    "    for i in range (2,6):\n",
    "        xPath = '//*[@id=\"info.search.page.no' + str(i) + '\"]'\n",
    "        driver.find_element_by_xpath(xPath).click()\n",
    "        time.sleep(2)\n",
    "        crawling()\n",
    "        time.sleep(2)\n",
    "    # 5페이지까지 가면 다음 )>)페이지로 넘긴다. \n",
    "    if i == 5:\n",
    "        # next버튼\n",
    "        next_btn = 'info.search.page.next'\n",
    "        button2 = driver.find_element_by_id(next_btn)\n",
    "        ActionChains(driver).move_to_element(button2).click().perform()\n",
    "        ActionChains(driver).move_to_element(button2).click().perform()\n",
    "        crawling()\n",
    "        time.sleep(2)\n",
    "\n",
    "# 크롤링 하는 함수 \n",
    "def crawling():\n",
    "    global count\n",
    "    html = driver.page_source\n",
    "    soup = BeautifulSoup(html, 'html.parser')\n",
    "    baskin_soup_list = soup.select(\"li.PlaceItem\")\n",
    "\n",
    "    for item in baskin_soup_list:\n",
    "        soup = BeautifulSoup(html, 'html.parser')\n",
    "        name = item.select('strong')[0]('a')[1].text\n",
    "        hours = item.select('p.periodWarp')[0]('a')[0].text\n",
    "        address = item.select('div.addr')[0]('p')[0].text\n",
    "        cnt_review = item.select('div.rating')[0]('a')[1].text\n",
    "        starpoint = item.select('div.rating')[0]('span')[0]('em')[0].text\n",
    "        tel = item.select('div.contact')[0]('span')[0].text\n",
    "\n",
    "        baskin_list.append([name, hours, address, cnt_review, starpoint, tel])\n",
    "    count += 1\n",
    "    countCrawling()\n",
    "\n",
    "# 크롬 드라이버 세팅 및 크롤링 세팅\n",
    "driver = webdriver.Chrome('/Users/jwoh/Desktop/pythonScrolling/chromedriver3')\n",
    "driver.get(\"https://map.kakao.com/\")\n",
    "# 검색창 찾기\n",
    "elem = driver.find_element_by_name(\"q\")\n",
    "# 서울 배스킨 라빈스 입력\n",
    "elem.send_keys(\"서울 배스킨라빈스\")\n",
    "# 엔터 입력\n",
    "elem.send_keys(Keys.RETURN)\n",
    "\n",
    "SCROLL_PAUSE_TIME = 1\n",
    "# Get scroll height\n",
    "last_height = driver.execute_script(\"return document.body.scrollHeight\")\n",
    "# Wait to load page\n",
    "time.sleep(SCROLL_PAUSE_TIME)\n",
    "# Calculate new scroll height and compare with last scroll height\n",
    "new_height = driver.execute_script(\"return document.body.scrollHeight\")\n",
    "# 스크롤을 내릴 곳이 없다면\n",
    "if new_height == last_height:\n",
    "    # 1페이지 크롤링 \n",
    "    crawling()\n",
    "    # 더보기 버튼 클릭\n",
    "    # 2페이지로 넘어갔지만 크롤링은 하지 않음\n",
    "    more_btn_click()\n",
    "\n",
    "# 총 21페이지까지이므로 21 페이지까지 크롤링 \n",
    "while count < 21 :\n",
    "    scroll_down()\n"
   ]
  },
  {
   "cell_type": "code",
   "execution_count": 23,
   "id": "8b8d8451",
   "metadata": {
    "id": "8b8d8451",
    "outputId": "cce756df-314a-4192-897c-dd73e5d98a91"
   },
   "outputs": [],
   "source": [
    "# 표 확인 \n",
    "columns = ['매장명','영업시간','주소','리뷰 갯수', '별점','전화번호']\n",
    "seoul_baskin_df = pd.DataFrame(baskin_list, columns = columns)\n",
    "# 맨 마지막 2개는 배스킨 라빈스 매장이 아니므로 삭제해서 데이터 프레임 만들기.\n",
    "new_df = seoul_baskin_df[:-2]"
   ]
  },
  {
   "cell_type": "code",
   "execution_count": 24,
   "id": "73c05261",
   "metadata": {},
   "outputs": [
    {
     "data": {
      "text/html": [
       "<div>\n",
       "<style scoped>\n",
       "    .dataframe tbody tr th:only-of-type {\n",
       "        vertical-align: middle;\n",
       "    }\n",
       "\n",
       "    .dataframe tbody tr th {\n",
       "        vertical-align: top;\n",
       "    }\n",
       "\n",
       "    .dataframe thead th {\n",
       "        text-align: right;\n",
       "    }\n",
       "</style>\n",
       "<table border=\"1\" class=\"dataframe\">\n",
       "  <thead>\n",
       "    <tr style=\"text-align: right;\">\n",
       "      <th></th>\n",
       "      <th>매장명</th>\n",
       "      <th>영업시간</th>\n",
       "      <th>주소</th>\n",
       "      <th>리뷰 갯수</th>\n",
       "      <th>별점</th>\n",
       "      <th>전화번호</th>\n",
       "    </tr>\n",
       "  </thead>\n",
       "  <tbody>\n",
       "    <tr>\n",
       "      <th>0</th>\n",
       "      <td>배스킨라빈스 BROWN청담점</td>\n",
       "      <td>매일 08:00 ~ 23:00</td>\n",
       "      <td>서울 강남구 도산대로 327 SGF청담타워 3층</td>\n",
       "      <td>리뷰 256</td>\n",
       "      <td>4.2</td>\n",
       "      <td>02-547-1205</td>\n",
       "    </tr>\n",
       "    <tr>\n",
       "      <th>1</th>\n",
       "      <td>배스킨라빈스 종로2가점</td>\n",
       "      <td>매일 10:00 ~ 23:00</td>\n",
       "      <td>서울 종로구 종로12길 9</td>\n",
       "      <td>리뷰 15</td>\n",
       "      <td>3.3</td>\n",
       "      <td>02-733-3130</td>\n",
       "    </tr>\n",
       "    <tr>\n",
       "      <th>2</th>\n",
       "      <td>배스킨라빈스 세로수길점</td>\n",
       "      <td>매일 10:00 ~ 23:00</td>\n",
       "      <td>서울 강남구 도산대로11길 15 1층</td>\n",
       "      <td>리뷰 31</td>\n",
       "      <td>5.0</td>\n",
       "      <td>02-542-8613</td>\n",
       "    </tr>\n",
       "    <tr>\n",
       "      <th>3</th>\n",
       "      <td>배스킨라빈스 강남중앙점</td>\n",
       "      <td>매일 10:00 ~ 23:00</td>\n",
       "      <td>서울 강남구 강남대로96길 9 1층</td>\n",
       "      <td>리뷰 37</td>\n",
       "      <td>2.0</td>\n",
       "      <td>02-563-8588</td>\n",
       "    </tr>\n",
       "    <tr>\n",
       "      <th>4</th>\n",
       "      <td>배스킨라빈스 홍대상상마당점</td>\n",
       "      <td>매일 10:00 ~ 24:00</td>\n",
       "      <td>서울 마포구 어울마당로 61</td>\n",
       "      <td>리뷰 14</td>\n",
       "      <td>3.4</td>\n",
       "      <td>02-324-1222</td>\n",
       "    </tr>\n",
       "    <tr>\n",
       "      <th>...</th>\n",
       "      <td>...</td>\n",
       "      <td>...</td>\n",
       "      <td>...</td>\n",
       "      <td>...</td>\n",
       "      <td>...</td>\n",
       "      <td>...</td>\n",
       "    </tr>\n",
       "    <tr>\n",
       "      <th>298</th>\n",
       "      <td>배스킨라빈스 은평뉴타운</td>\n",
       "      <td>매일 10:00 ~ 23:00</td>\n",
       "      <td>서울 은평구 진관4로 17</td>\n",
       "      <td>리뷰 0</td>\n",
       "      <td>5.0</td>\n",
       "      <td>02-3157-0031</td>\n",
       "    </tr>\n",
       "    <tr>\n",
       "      <th>299</th>\n",
       "      <td>배스킨라빈스 중계롯데마트점</td>\n",
       "      <td></td>\n",
       "      <td>서울 노원구 노원로 330 롯데마트 중계점 지하1층</td>\n",
       "      <td>리뷰 0</td>\n",
       "      <td>0.0</td>\n",
       "      <td>02-932-3132</td>\n",
       "    </tr>\n",
       "    <tr>\n",
       "      <th>300</th>\n",
       "      <td>배스킨라빈스 명일이마트점</td>\n",
       "      <td>매일 10:00 ~ 23:00</td>\n",
       "      <td>서울 강동구 고덕로 276 이마트 4층</td>\n",
       "      <td>리뷰 0</td>\n",
       "      <td>1.0</td>\n",
       "      <td>02-427-0310</td>\n",
       "    </tr>\n",
       "    <tr>\n",
       "      <th>301</th>\n",
       "      <td>배스킨라빈스 신도림점</td>\n",
       "      <td>금 10:00 ~ 24:00</td>\n",
       "      <td>서울 구로구 경인로 611-7 큐브스테이트 1층</td>\n",
       "      <td>리뷰 0</td>\n",
       "      <td>0.0</td>\n",
       "      <td>070-7005-3131</td>\n",
       "    </tr>\n",
       "    <tr>\n",
       "      <th>302</th>\n",
       "      <td>베스킨라빈스 아현뉴타운점</td>\n",
       "      <td></td>\n",
       "      <td>서울 마포구 마포대로 195</td>\n",
       "      <td>리뷰 0</td>\n",
       "      <td>0.0</td>\n",
       "      <td>02-313-7877</td>\n",
       "    </tr>\n",
       "  </tbody>\n",
       "</table>\n",
       "<p>303 rows × 6 columns</p>\n",
       "</div>"
      ],
      "text/plain": [
       "                 매장명              영업시간                            주소   리뷰 갯수  \\\n",
       "0    배스킨라빈스 BROWN청담점  매일 08:00 ~ 23:00    서울 강남구 도산대로 327 SGF청담타워 3층  리뷰 256   \n",
       "1       배스킨라빈스 종로2가점  매일 10:00 ~ 23:00                서울 종로구 종로12길 9   리뷰 15   \n",
       "2       배스킨라빈스 세로수길점  매일 10:00 ~ 23:00          서울 강남구 도산대로11길 15 1층   리뷰 31   \n",
       "3       배스킨라빈스 강남중앙점  매일 10:00 ~ 23:00           서울 강남구 강남대로96길 9 1층   리뷰 37   \n",
       "4     배스킨라빈스 홍대상상마당점  매일 10:00 ~ 24:00               서울 마포구 어울마당로 61   리뷰 14   \n",
       "..               ...               ...                           ...     ...   \n",
       "298     배스킨라빈스 은평뉴타운  매일 10:00 ~ 23:00                서울 은평구 진관4로 17    리뷰 0   \n",
       "299   배스킨라빈스 중계롯데마트점                    서울 노원구 노원로 330 롯데마트 중계점 지하1층    리뷰 0   \n",
       "300    배스킨라빈스 명일이마트점  매일 10:00 ~ 23:00         서울 강동구 고덕로 276 이마트 4층    리뷰 0   \n",
       "301      배스킨라빈스 신도림점   금 10:00 ~ 24:00    서울 구로구 경인로 611-7 큐브스테이트 1층    리뷰 0   \n",
       "302    베스킨라빈스 아현뉴타운점                                 서울 마포구 마포대로 195    리뷰 0   \n",
       "\n",
       "      별점           전화번호  \n",
       "0    4.2    02-547-1205  \n",
       "1    3.3    02-733-3130  \n",
       "2    5.0    02-542-8613  \n",
       "3    2.0    02-563-8588  \n",
       "4    3.4    02-324-1222  \n",
       "..   ...            ...  \n",
       "298  5.0   02-3157-0031  \n",
       "299  0.0    02-932-3132  \n",
       "300  1.0    02-427-0310  \n",
       "301  0.0  070-7005-3131  \n",
       "302  0.0    02-313-7877  \n",
       "\n",
       "[303 rows x 6 columns]"
      ]
     },
     "execution_count": 24,
     "metadata": {},
     "output_type": "execute_result"
    }
   ],
   "source": [
    "new_df"
   ]
  },
  {
   "cell_type": "code",
   "execution_count": 25,
   "id": "6b0dc6c5",
   "metadata": {},
   "outputs": [
    {
     "data": {
      "text/plain": [
       "'서울 영등포구 당산로 214 상가1동 1층'"
      ]
     },
     "execution_count": 25,
     "metadata": {},
     "output_type": "execute_result"
    }
   ],
   "source": [
    "# 카카오 API 위도, 경도 설정 시 오류 해결을 위한 특정 셀의 값 변경 \n",
    "# 서울 영등포구 당산로 214 상가1동 1층 111-2,3호 -> 서울 영등포구 당산로 214 상가1동 1층\n",
    "new_df.iloc[182][2]=\"서울 영등포구 당산로 214 상가1동 1층\"\n",
    "new_df.iloc[182][2]"
   ]
  },
  {
   "cell_type": "code",
   "execution_count": 26,
   "id": "e0051e08",
   "metadata": {},
   "outputs": [
    {
     "data": {
      "text/html": [
       "<div>\n",
       "<style scoped>\n",
       "    .dataframe tbody tr th:only-of-type {\n",
       "        vertical-align: middle;\n",
       "    }\n",
       "\n",
       "    .dataframe tbody tr th {\n",
       "        vertical-align: top;\n",
       "    }\n",
       "\n",
       "    .dataframe thead th {\n",
       "        text-align: right;\n",
       "    }\n",
       "</style>\n",
       "<table border=\"1\" class=\"dataframe\">\n",
       "  <thead>\n",
       "    <tr style=\"text-align: right;\">\n",
       "      <th></th>\n",
       "      <th>매장명</th>\n",
       "      <th>영업시간</th>\n",
       "      <th>주소</th>\n",
       "      <th>리뷰 갯수</th>\n",
       "      <th>별점</th>\n",
       "      <th>전화번호</th>\n",
       "    </tr>\n",
       "  </thead>\n",
       "  <tbody>\n",
       "    <tr>\n",
       "      <th>182</th>\n",
       "      <td>배스킨라빈스 당산래미안점</td>\n",
       "      <td>매일 10:00 ~ 23:00</td>\n",
       "      <td>서울 영등포구 당산로 214 상가1동 1층</td>\n",
       "      <td>리뷰 5</td>\n",
       "      <td>2.7</td>\n",
       "      <td>02-2633-2662</td>\n",
       "    </tr>\n",
       "  </tbody>\n",
       "</table>\n",
       "</div>"
      ],
      "text/plain": [
       "               매장명              영업시간                       주소 리뷰 갯수   별점  \\\n",
       "182  배스킨라빈스 당산래미안점  매일 10:00 ~ 23:00  서울 영등포구 당산로 214 상가1동 1층  리뷰 5  2.7   \n",
       "\n",
       "             전화번호  \n",
       "182  02-2633-2662  "
      ]
     },
     "execution_count": 26,
     "metadata": {},
     "output_type": "execute_result"
    }
   ],
   "source": [
    "new_df[182:183]"
   ]
  },
  {
   "cell_type": "code",
   "execution_count": 27,
   "id": "18723964",
   "metadata": {
    "id": "18723964"
   },
   "outputs": [],
   "source": [
    "# 엑셀로 저장\n",
    "new_df.to_excel('/Users/jwoh/Desktop/pythonScrolling/DataSciencePython/02_개정판/8_BaskinRobbins_Location/files/seoul_baskin_list.xlsx', index=False)"
   ]
  },
  {
   "cell_type": "code",
   "execution_count": null,
   "id": "8d8719b1",
   "metadata": {},
   "outputs": [],
   "source": []
  }
 ],
 "metadata": {
  "colab": {
   "name": "BaskinRobins31-final.ipynb",
   "provenance": []
  },
  "kernelspec": {
   "display_name": "Python 3",
   "language": "python",
   "name": "python3"
  },
  "language_info": {
   "codemirror_mode": {
    "name": "ipython",
    "version": 3
   },
   "file_extension": ".py",
   "mimetype": "text/x-python",
   "name": "python",
   "nbconvert_exporter": "python",
   "pygments_lexer": "ipython3",
   "version": "3.7.10"
  }
 },
 "nbformat": 4,
 "nbformat_minor": 5
}
