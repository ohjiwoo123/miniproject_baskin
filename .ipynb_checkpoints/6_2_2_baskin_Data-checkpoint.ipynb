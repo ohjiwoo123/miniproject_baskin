{
 "cells": [
  {
   "cell_type": "code",
   "execution_count": 18,
   "metadata": {
    "executionInfo": {
     "elapsed": 255,
     "status": "ok",
     "timestamp": 1629368235287,
     "user": {
      "displayName": "김형찬",
      "photoUrl": "",
      "userId": "09956831381256229042"
     },
     "user_tz": -540
    },
    "id": "xMrXD4UQ2Qo4"
   },
   "outputs": [],
   "source": [
    "filepath = '/Users/jwoh/Desktop/pythonScrolling/DataSciencePython/02_개정판/8_BaskinRobbins_Location/files'\n",
    "sgg_geojson_file_path = '/Users/jwoh/Desktop/pythonScrolling/DataSciencePython/02_개정판/8_BaskinRobbins_Location/maps/seoul_sgg.geojson'"
   ]
  },
  {
   "cell_type": "markdown",
   "metadata": {
    "id": "be5c4e9Z0VqA"
   },
   "source": [
    "## 6.2.2 스타벅스 분석 데이터 만들기"
   ]
  },
  {
   "cell_type": "code",
   "execution_count": 19,
   "metadata": {
    "executionInfo": {
     "elapsed": 304,
     "status": "ok",
     "timestamp": 1629368225117,
     "user": {
      "displayName": "김형찬",
      "photoUrl": "",
      "userId": "09956831381256229042"
     },
     "user_tz": -540
    },
    "id": "FlvcDZC50VqK"
   },
   "outputs": [],
   "source": [
    "# 예제 6-42 라이브러리 임포트\n",
    "import pandas as pd\n",
    "import os"
   ]
  },
  {
   "cell_type": "code",
   "execution_count": 20,
   "metadata": {
    "colab": {
     "base_uri": "https://localhost:8080/",
     "height": 204
    },
    "executionInfo": {
     "elapsed": 708,
     "status": "ok",
     "timestamp": 1629368237970,
     "user": {
      "displayName": "김형찬",
      "photoUrl": "",
      "userId": "09956831381256229042"
     },
     "user_tz": -540
    },
    "id": "GhZYF_Oz0VqQ",
    "outputId": "faa2166f-e178-4dc1-a1d4-4a9039f86f2e"
   },
   "outputs": [
    {
     "data": {
      "text/html": [
       "<div>\n",
       "<style scoped>\n",
       "    .dataframe tbody tr th:only-of-type {\n",
       "        vertical-align: middle;\n",
       "    }\n",
       "\n",
       "    .dataframe tbody tr th {\n",
       "        vertical-align: top;\n",
       "    }\n",
       "\n",
       "    .dataframe thead th {\n",
       "        text-align: right;\n",
       "    }\n",
       "</style>\n",
       "<table border=\"1\" class=\"dataframe\">\n",
       "  <thead>\n",
       "    <tr style=\"text-align: right;\">\n",
       "      <th></th>\n",
       "      <th>시군구코드</th>\n",
       "      <th>시군구명</th>\n",
       "      <th>위도</th>\n",
       "      <th>경도</th>\n",
       "    </tr>\n",
       "  </thead>\n",
       "  <tbody>\n",
       "    <tr>\n",
       "      <th>0</th>\n",
       "      <td>11320</td>\n",
       "      <td>도봉구</td>\n",
       "      <td>37.665861</td>\n",
       "      <td>127.031767</td>\n",
       "    </tr>\n",
       "    <tr>\n",
       "      <th>1</th>\n",
       "      <td>11380</td>\n",
       "      <td>은평구</td>\n",
       "      <td>37.617612</td>\n",
       "      <td>126.922700</td>\n",
       "    </tr>\n",
       "    <tr>\n",
       "      <th>2</th>\n",
       "      <td>11230</td>\n",
       "      <td>동대문구</td>\n",
       "      <td>37.583801</td>\n",
       "      <td>127.050700</td>\n",
       "    </tr>\n",
       "    <tr>\n",
       "      <th>3</th>\n",
       "      <td>11590</td>\n",
       "      <td>동작구</td>\n",
       "      <td>37.496504</td>\n",
       "      <td>126.944307</td>\n",
       "    </tr>\n",
       "    <tr>\n",
       "      <th>4</th>\n",
       "      <td>11545</td>\n",
       "      <td>금천구</td>\n",
       "      <td>37.460097</td>\n",
       "      <td>126.900155</td>\n",
       "    </tr>\n",
       "  </tbody>\n",
       "</table>\n",
       "</div>"
      ],
      "text/plain": [
       "   시군구코드  시군구명         위도          경도\n",
       "0  11320   도봉구  37.665861  127.031767\n",
       "1  11380   은평구  37.617612  126.922700\n",
       "2  11230  동대문구  37.583801  127.050700\n",
       "3  11590   동작구  37.496504  126.944307\n",
       "4  11545   금천구  37.460097  126.900155"
      ]
     },
     "execution_count": 20,
     "metadata": {},
     "output_type": "execute_result"
    }
   ],
   "source": [
    "# 예제 6-43 시군구 목록 데이터 불러오기\n",
    "sggpath = os.path.join(filepath,'seoul_sgg_list.xlsx' )\n",
    "seoul_sgg = pd.read_excel(sggpath)\n",
    "seoul_sgg.head(5)"
   ]
  },
  {
   "cell_type": "code",
   "execution_count": 21,
   "metadata": {
    "colab": {
     "base_uri": "https://localhost:8080/",
     "height": 204
    },
    "executionInfo": {
     "elapsed": 639,
     "status": "ok",
     "timestamp": 1629368245977,
     "user": {
      "displayName": "김형찬",
      "photoUrl": "",
      "userId": "09956831381256229042"
     },
     "user_tz": -540
    },
    "id": "MEHpRczv0VqT",
    "outputId": "790ee5b3-d593-4a3e-f1db-7e998e69d726"
   },
   "outputs": [
    {
     "data": {
      "text/html": [
       "<div>\n",
       "<style scoped>\n",
       "    .dataframe tbody tr th:only-of-type {\n",
       "        vertical-align: middle;\n",
       "    }\n",
       "\n",
       "    .dataframe tbody tr th {\n",
       "        vertical-align: top;\n",
       "    }\n",
       "\n",
       "    .dataframe thead th {\n",
       "        text-align: right;\n",
       "    }\n",
       "</style>\n",
       "<table border=\"1\" class=\"dataframe\">\n",
       "  <thead>\n",
       "    <tr style=\"text-align: right;\">\n",
       "      <th></th>\n",
       "      <th>매장명</th>\n",
       "      <th>영업시간</th>\n",
       "      <th>주소</th>\n",
       "      <th>리뷰 갯수</th>\n",
       "      <th>별점</th>\n",
       "      <th>전화번호</th>\n",
       "      <th>위도</th>\n",
       "      <th>경도</th>\n",
       "      <th>시군구명</th>\n",
       "    </tr>\n",
       "  </thead>\n",
       "  <tbody>\n",
       "    <tr>\n",
       "      <th>0</th>\n",
       "      <td>배스킨라빈스 BROWN청담점</td>\n",
       "      <td>매일 08:00 ~ 23:00</td>\n",
       "      <td>서울 강남구 도산대로 327 SGF청담타워 3층</td>\n",
       "      <td>리뷰 256</td>\n",
       "      <td>4.2</td>\n",
       "      <td>02-547-1205</td>\n",
       "      <td>37.523120</td>\n",
       "      <td>127.037599</td>\n",
       "      <td>강남구</td>\n",
       "    </tr>\n",
       "    <tr>\n",
       "      <th>1</th>\n",
       "      <td>배스킨라빈스 종로2가점</td>\n",
       "      <td>매일 10:00 ~ 23:00</td>\n",
       "      <td>서울 종로구 종로12길 9</td>\n",
       "      <td>리뷰 15</td>\n",
       "      <td>3.3</td>\n",
       "      <td>02-733-3130</td>\n",
       "      <td>37.569632</td>\n",
       "      <td>126.985908</td>\n",
       "      <td>종로구</td>\n",
       "    </tr>\n",
       "    <tr>\n",
       "      <th>2</th>\n",
       "      <td>배스킨라빈스 세로수길점</td>\n",
       "      <td>매일 10:00 ~ 23:00</td>\n",
       "      <td>서울 강남구 도산대로11길 15 1층</td>\n",
       "      <td>리뷰 31</td>\n",
       "      <td>5.0</td>\n",
       "      <td>02-542-8613</td>\n",
       "      <td>37.518405</td>\n",
       "      <td>127.022378</td>\n",
       "      <td>강남구</td>\n",
       "    </tr>\n",
       "    <tr>\n",
       "      <th>3</th>\n",
       "      <td>배스킨라빈스 강남중앙점</td>\n",
       "      <td>매일 10:00 ~ 23:00</td>\n",
       "      <td>서울 강남구 강남대로96길 9 1층</td>\n",
       "      <td>리뷰 37</td>\n",
       "      <td>2.0</td>\n",
       "      <td>02-563-8588</td>\n",
       "      <td>37.499858</td>\n",
       "      <td>127.027736</td>\n",
       "      <td>강남구</td>\n",
       "    </tr>\n",
       "    <tr>\n",
       "      <th>4</th>\n",
       "      <td>배스킨라빈스 홍대상상마당점</td>\n",
       "      <td>매일 10:00 ~ 24:00</td>\n",
       "      <td>서울 마포구 어울마당로 61</td>\n",
       "      <td>리뷰 14</td>\n",
       "      <td>3.4</td>\n",
       "      <td>02-324-1222</td>\n",
       "      <td>37.550510</td>\n",
       "      <td>126.921004</td>\n",
       "      <td>마포구</td>\n",
       "    </tr>\n",
       "  </tbody>\n",
       "</table>\n",
       "</div>"
      ],
      "text/plain": [
       "               매장명              영업시간                          주소   리뷰 갯수   별점  \\\n",
       "0  배스킨라빈스 BROWN청담점  매일 08:00 ~ 23:00  서울 강남구 도산대로 327 SGF청담타워 3층  리뷰 256  4.2   \n",
       "1     배스킨라빈스 종로2가점  매일 10:00 ~ 23:00              서울 종로구 종로12길 9   리뷰 15  3.3   \n",
       "2     배스킨라빈스 세로수길점  매일 10:00 ~ 23:00        서울 강남구 도산대로11길 15 1층   리뷰 31  5.0   \n",
       "3     배스킨라빈스 강남중앙점  매일 10:00 ~ 23:00         서울 강남구 강남대로96길 9 1층   리뷰 37  2.0   \n",
       "4   배스킨라빈스 홍대상상마당점  매일 10:00 ~ 24:00             서울 마포구 어울마당로 61   리뷰 14  3.4   \n",
       "\n",
       "          전화번호         위도          경도 시군구명  \n",
       "0  02-547-1205  37.523120  127.037599  강남구  \n",
       "1  02-733-3130  37.569632  126.985908  종로구  \n",
       "2  02-542-8613  37.518405  127.022378  강남구  \n",
       "3  02-563-8588  37.499858  127.027736  강남구  \n",
       "4  02-324-1222  37.550510  126.921004  마포구  "
      ]
     },
     "execution_count": 21,
     "metadata": {},
     "output_type": "execute_result"
    }
   ],
   "source": [
    "# 예제 6-44 서울시 스타벅스 매장 목록 데이터 불러오기\n",
    "starbuckspath = os.path.join(filepath,'seoul_baskin_list2.xlsx')\n",
    "seoul_starbucks = pd.read_excel(starbuckspath)\n",
    "seoul_starbucks.head(5)"
   ]
  },
  {
   "cell_type": "code",
   "execution_count": 22,
   "metadata": {
    "colab": {
     "base_uri": "https://localhost:8080/",
     "height": 235
    },
    "executionInfo": {
     "elapsed": 257,
     "status": "ok",
     "timestamp": 1629368248469,
     "user": {
      "displayName": "김형찬",
      "photoUrl": "",
      "userId": "09956831381256229042"
     },
     "user_tz": -540
    },
    "id": "dy5or8NC0VqW",
    "outputId": "58e3bd94-c7ed-4379-dff3-4c7feefe74e1"
   },
   "outputs": [
    {
     "data": {
      "text/html": [
       "<div>\n",
       "<style scoped>\n",
       "    .dataframe tbody tr th:only-of-type {\n",
       "        vertical-align: middle;\n",
       "    }\n",
       "\n",
       "    .dataframe tbody tr th {\n",
       "        vertical-align: top;\n",
       "    }\n",
       "\n",
       "    .dataframe thead th {\n",
       "        text-align: right;\n",
       "    }\n",
       "</style>\n",
       "<table border=\"1\" class=\"dataframe\">\n",
       "  <thead>\n",
       "    <tr style=\"text-align: right;\">\n",
       "      <th></th>\n",
       "      <th>배스킨_매장수</th>\n",
       "    </tr>\n",
       "    <tr>\n",
       "      <th>시군구명</th>\n",
       "      <th></th>\n",
       "    </tr>\n",
       "  </thead>\n",
       "  <tbody>\n",
       "    <tr>\n",
       "      <th>강남구</th>\n",
       "      <td>19</td>\n",
       "    </tr>\n",
       "    <tr>\n",
       "      <th>강동구</th>\n",
       "      <td>15</td>\n",
       "    </tr>\n",
       "    <tr>\n",
       "      <th>강북구</th>\n",
       "      <td>7</td>\n",
       "    </tr>\n",
       "    <tr>\n",
       "      <th>강서구</th>\n",
       "      <td>16</td>\n",
       "    </tr>\n",
       "    <tr>\n",
       "      <th>관악구</th>\n",
       "      <td>12</td>\n",
       "    </tr>\n",
       "  </tbody>\n",
       "</table>\n",
       "</div>"
      ],
      "text/plain": [
       "      배스킨_매장수\n",
       "시군구명         \n",
       "강남구        19\n",
       "강동구        15\n",
       "강북구         7\n",
       "강서구        16\n",
       "관악구        12"
      ]
     },
     "execution_count": 22,
     "metadata": {},
     "output_type": "execute_result"
    }
   ],
   "source": [
    "# 예제 6-45 시군구별 스타벅스 매장 수 세기\n",
    "starbucks_sgg_count = seoul_starbucks.pivot_table(\n",
    "                                                index = '시군구명', \n",
    "                                                values='매장명', \n",
    "                                                aggfunc='count'\n",
    "                                                ).rename(columns={'매장명':'배스킨_매장수'})\n",
    "starbucks_sgg_count.head()"
   ]
  },
  {
   "cell_type": "code",
   "execution_count": 23,
   "metadata": {
    "colab": {
     "base_uri": "https://localhost:8080/",
     "height": 204
    },
    "executionInfo": {
     "elapsed": 259,
     "status": "ok",
     "timestamp": 1629368252396,
     "user": {
      "displayName": "김형찬",
      "photoUrl": "",
      "userId": "09956831381256229042"
     },
     "user_tz": -540
    },
    "id": "pmwIdS0V0VqY",
    "outputId": "af507185-2605-4aa4-8aae-25bcbd7d45d4"
   },
   "outputs": [
    {
     "data": {
      "text/html": [
       "<div>\n",
       "<style scoped>\n",
       "    .dataframe tbody tr th:only-of-type {\n",
       "        vertical-align: middle;\n",
       "    }\n",
       "\n",
       "    .dataframe tbody tr th {\n",
       "        vertical-align: top;\n",
       "    }\n",
       "\n",
       "    .dataframe thead th {\n",
       "        text-align: right;\n",
       "    }\n",
       "</style>\n",
       "<table border=\"1\" class=\"dataframe\">\n",
       "  <thead>\n",
       "    <tr style=\"text-align: right;\">\n",
       "      <th></th>\n",
       "      <th>시군구코드</th>\n",
       "      <th>시군구명</th>\n",
       "      <th>위도</th>\n",
       "      <th>경도</th>\n",
       "      <th>배스킨_매장수</th>\n",
       "    </tr>\n",
       "  </thead>\n",
       "  <tbody>\n",
       "    <tr>\n",
       "      <th>0</th>\n",
       "      <td>11320</td>\n",
       "      <td>도봉구</td>\n",
       "      <td>37.665861</td>\n",
       "      <td>127.031767</td>\n",
       "      <td>7</td>\n",
       "    </tr>\n",
       "    <tr>\n",
       "      <th>1</th>\n",
       "      <td>11380</td>\n",
       "      <td>은평구</td>\n",
       "      <td>37.617612</td>\n",
       "      <td>126.922700</td>\n",
       "      <td>13</td>\n",
       "    </tr>\n",
       "    <tr>\n",
       "      <th>2</th>\n",
       "      <td>11230</td>\n",
       "      <td>동대문구</td>\n",
       "      <td>37.583801</td>\n",
       "      <td>127.050700</td>\n",
       "      <td>8</td>\n",
       "    </tr>\n",
       "    <tr>\n",
       "      <th>3</th>\n",
       "      <td>11590</td>\n",
       "      <td>동작구</td>\n",
       "      <td>37.496504</td>\n",
       "      <td>126.944307</td>\n",
       "      <td>10</td>\n",
       "    </tr>\n",
       "    <tr>\n",
       "      <th>4</th>\n",
       "      <td>11545</td>\n",
       "      <td>금천구</td>\n",
       "      <td>37.460097</td>\n",
       "      <td>126.900155</td>\n",
       "      <td>8</td>\n",
       "    </tr>\n",
       "  </tbody>\n",
       "</table>\n",
       "</div>"
      ],
      "text/plain": [
       "   시군구코드  시군구명         위도          경도  배스킨_매장수\n",
       "0  11320   도봉구  37.665861  127.031767        7\n",
       "1  11380   은평구  37.617612  126.922700       13\n",
       "2  11230  동대문구  37.583801  127.050700        8\n",
       "3  11590   동작구  37.496504  126.944307       10\n",
       "4  11545   금천구  37.460097  126.900155        8"
      ]
     },
     "execution_count": 23,
     "metadata": {},
     "output_type": "execute_result"
    }
   ],
   "source": [
    "# 예제 6-46 서울시 시군구 목록 데이터에 스타벅스 매장 수 데이터를 병합\n",
    "seoul_sgg = pd.merge(seoul_sgg, starbucks_sgg_count, how='left', on='시군구명')\n",
    "seoul_sgg.head()"
   ]
  },
  {
   "cell_type": "code",
   "execution_count": 24,
   "metadata": {
    "colab": {
     "base_uri": "https://localhost:8080/",
     "height": 204
    },
    "executionInfo": {
     "elapsed": 635,
     "status": "ok",
     "timestamp": 1629368255196,
     "user": {
      "displayName": "김형찬",
      "photoUrl": "",
      "userId": "09956831381256229042"
     },
     "user_tz": -540
    },
    "id": "yapD2KSj0Vqb",
    "outputId": "5918cce1-f49b-400b-80b4-22f3b0d8287f"
   },
   "outputs": [
    {
     "data": {
      "text/html": [
       "<div>\n",
       "<style scoped>\n",
       "    .dataframe tbody tr th:only-of-type {\n",
       "        vertical-align: middle;\n",
       "    }\n",
       "\n",
       "    .dataframe tbody tr th {\n",
       "        vertical-align: top;\n",
       "    }\n",
       "\n",
       "    .dataframe thead th {\n",
       "        text-align: right;\n",
       "    }\n",
       "</style>\n",
       "<table border=\"1\" class=\"dataframe\">\n",
       "  <thead>\n",
       "    <tr style=\"text-align: right;\">\n",
       "      <th></th>\n",
       "      <th>시군구명</th>\n",
       "      <th>주민등록인구</th>\n",
       "    </tr>\n",
       "  </thead>\n",
       "  <tbody>\n",
       "    <tr>\n",
       "      <th>0</th>\n",
       "      <td>종로구</td>\n",
       "      <td>159,842</td>\n",
       "    </tr>\n",
       "    <tr>\n",
       "      <th>1</th>\n",
       "      <td>중구</td>\n",
       "      <td>135,321</td>\n",
       "    </tr>\n",
       "    <tr>\n",
       "      <th>2</th>\n",
       "      <td>용산구</td>\n",
       "      <td>244,953</td>\n",
       "    </tr>\n",
       "    <tr>\n",
       "      <th>3</th>\n",
       "      <td>성동구</td>\n",
       "      <td>302,695</td>\n",
       "    </tr>\n",
       "    <tr>\n",
       "      <th>4</th>\n",
       "      <td>광진구</td>\n",
       "      <td>361,923</td>\n",
       "    </tr>\n",
       "  </tbody>\n",
       "</table>\n",
       "</div>"
      ],
      "text/plain": [
       "  시군구명   주민등록인구\n",
       "0  종로구  159,842\n",
       "1   중구  135,321\n",
       "2  용산구  244,953\n",
       "3  성동구  302,695\n",
       "4  광진구  361,923"
      ]
     },
     "execution_count": 24,
     "metadata": {},
     "output_type": "execute_result"
    }
   ],
   "source": [
    "# 예제 6-47 서울시 시군구별 인구통계 데이터 불러오기\n",
    "sgg_poppath = os.path.join(filepath, 'sgg_pop.xlsx')\n",
    "seoul_sgg_pop = pd.read_excel(sgg_poppath)\n",
    "seoul_sgg_pop.head()"
   ]
  },
  {
   "cell_type": "code",
   "execution_count": 25,
   "metadata": {
    "colab": {
     "base_uri": "https://localhost:8080/",
     "height": 204
    },
    "executionInfo": {
     "elapsed": 15,
     "status": "ok",
     "timestamp": 1629368256168,
     "user": {
      "displayName": "김형찬",
      "photoUrl": "",
      "userId": "09956831381256229042"
     },
     "user_tz": -540
    },
    "id": "Pd7SvgNI0Vqf",
    "outputId": "00df85f9-6eb3-499c-9e0a-718aeaf9cb64"
   },
   "outputs": [
    {
     "data": {
      "text/html": [
       "<div>\n",
       "<style scoped>\n",
       "    .dataframe tbody tr th:only-of-type {\n",
       "        vertical-align: middle;\n",
       "    }\n",
       "\n",
       "    .dataframe tbody tr th {\n",
       "        vertical-align: top;\n",
       "    }\n",
       "\n",
       "    .dataframe thead th {\n",
       "        text-align: right;\n",
       "    }\n",
       "</style>\n",
       "<table border=\"1\" class=\"dataframe\">\n",
       "  <thead>\n",
       "    <tr style=\"text-align: right;\">\n",
       "      <th></th>\n",
       "      <th>시군구코드</th>\n",
       "      <th>시군구명</th>\n",
       "      <th>위도</th>\n",
       "      <th>경도</th>\n",
       "      <th>배스킨_매장수</th>\n",
       "      <th>주민등록인구</th>\n",
       "    </tr>\n",
       "  </thead>\n",
       "  <tbody>\n",
       "    <tr>\n",
       "      <th>0</th>\n",
       "      <td>11320</td>\n",
       "      <td>도봉구</td>\n",
       "      <td>37.665861</td>\n",
       "      <td>127.031767</td>\n",
       "      <td>7</td>\n",
       "      <td>329,300</td>\n",
       "    </tr>\n",
       "    <tr>\n",
       "      <th>1</th>\n",
       "      <td>11380</td>\n",
       "      <td>은평구</td>\n",
       "      <td>37.617612</td>\n",
       "      <td>126.922700</td>\n",
       "      <td>13</td>\n",
       "      <td>485,842</td>\n",
       "    </tr>\n",
       "    <tr>\n",
       "      <th>2</th>\n",
       "      <td>11230</td>\n",
       "      <td>동대문구</td>\n",
       "      <td>37.583801</td>\n",
       "      <td>127.050700</td>\n",
       "      <td>8</td>\n",
       "      <td>358,679</td>\n",
       "    </tr>\n",
       "    <tr>\n",
       "      <th>3</th>\n",
       "      <td>11590</td>\n",
       "      <td>동작구</td>\n",
       "      <td>37.496504</td>\n",
       "      <td>126.944307</td>\n",
       "      <td>10</td>\n",
       "      <td>404,617</td>\n",
       "    </tr>\n",
       "    <tr>\n",
       "      <th>4</th>\n",
       "      <td>11545</td>\n",
       "      <td>금천구</td>\n",
       "      <td>37.460097</td>\n",
       "      <td>126.900155</td>\n",
       "      <td>8</td>\n",
       "      <td>249,641</td>\n",
       "    </tr>\n",
       "  </tbody>\n",
       "</table>\n",
       "</div>"
      ],
      "text/plain": [
       "   시군구코드  시군구명         위도          경도  배스킨_매장수   주민등록인구\n",
       "0  11320   도봉구  37.665861  127.031767        7  329,300\n",
       "1  11380   은평구  37.617612  126.922700       13  485,842\n",
       "2  11230  동대문구  37.583801  127.050700        8  358,679\n",
       "3  11590   동작구  37.496504  126.944307       10  404,617\n",
       "4  11545   금천구  37.460097  126.900155        8  249,641"
      ]
     },
     "execution_count": 25,
     "metadata": {},
     "output_type": "execute_result"
    }
   ],
   "source": [
    "# 예제 6-48 서울시 시군구 목록 데이터에 서울시 시군구별 인구통계 데이터를 병합\n",
    "seoul_sgg = pd.merge(seoul_sgg, seoul_sgg_pop, how='left', on='시군구명')\n",
    "seoul_sgg.head()"
   ]
  },
  {
   "cell_type": "code",
   "execution_count": 26,
   "metadata": {
    "colab": {
     "base_uri": "https://localhost:8080/",
     "height": 204
    },
    "executionInfo": {
     "elapsed": 635,
     "status": "ok",
     "timestamp": 1629368260488,
     "user": {
      "displayName": "김형찬",
      "photoUrl": "",
      "userId": "09956831381256229042"
     },
     "user_tz": -540
    },
    "id": "2kydGHYu0Vqk",
    "outputId": "0ca1060d-c455-4c90-a81c-0d1cedc1715e"
   },
   "outputs": [
    {
     "data": {
      "text/html": [
       "<div>\n",
       "<style scoped>\n",
       "    .dataframe tbody tr th:only-of-type {\n",
       "        vertical-align: middle;\n",
       "    }\n",
       "\n",
       "    .dataframe tbody tr th {\n",
       "        vertical-align: top;\n",
       "    }\n",
       "\n",
       "    .dataframe thead th {\n",
       "        text-align: right;\n",
       "    }\n",
       "</style>\n",
       "<table border=\"1\" class=\"dataframe\">\n",
       "  <thead>\n",
       "    <tr style=\"text-align: right;\">\n",
       "      <th></th>\n",
       "      <th>시군구코드</th>\n",
       "      <th>시군구명</th>\n",
       "      <th>위도</th>\n",
       "      <th>경도</th>\n",
       "      <th>배스킨_매장수</th>\n",
       "      <th>주민등록인구</th>\n",
       "      <th>종사자수</th>\n",
       "      <th>사업체수</th>\n",
       "    </tr>\n",
       "  </thead>\n",
       "  <tbody>\n",
       "    <tr>\n",
       "      <th>0</th>\n",
       "      <td>11320</td>\n",
       "      <td>도봉구</td>\n",
       "      <td>37.665861</td>\n",
       "      <td>127.031767</td>\n",
       "      <td>7</td>\n",
       "      <td>329,300</td>\n",
       "      <td>74,314</td>\n",
       "      <td>18,894</td>\n",
       "    </tr>\n",
       "    <tr>\n",
       "      <th>1</th>\n",
       "      <td>11380</td>\n",
       "      <td>은평구</td>\n",
       "      <td>37.617612</td>\n",
       "      <td>126.922700</td>\n",
       "      <td>13</td>\n",
       "      <td>485,842</td>\n",
       "      <td>90,049</td>\n",
       "      <td>24,873</td>\n",
       "    </tr>\n",
       "    <tr>\n",
       "      <th>2</th>\n",
       "      <td>11230</td>\n",
       "      <td>동대문구</td>\n",
       "      <td>37.583801</td>\n",
       "      <td>127.050700</td>\n",
       "      <td>8</td>\n",
       "      <td>358,679</td>\n",
       "      <td>140,748</td>\n",
       "      <td>31,878</td>\n",
       "    </tr>\n",
       "    <tr>\n",
       "      <th>3</th>\n",
       "      <td>11590</td>\n",
       "      <td>동작구</td>\n",
       "      <td>37.496504</td>\n",
       "      <td>126.944307</td>\n",
       "      <td>10</td>\n",
       "      <td>404,617</td>\n",
       "      <td>112,564</td>\n",
       "      <td>19,916</td>\n",
       "    </tr>\n",
       "    <tr>\n",
       "      <th>4</th>\n",
       "      <td>11545</td>\n",
       "      <td>금천구</td>\n",
       "      <td>37.460097</td>\n",
       "      <td>126.900155</td>\n",
       "      <td>8</td>\n",
       "      <td>249,641</td>\n",
       "      <td>234,012</td>\n",
       "      <td>32,472</td>\n",
       "    </tr>\n",
       "  </tbody>\n",
       "</table>\n",
       "</div>"
      ],
      "text/plain": [
       "   시군구코드  시군구명         위도          경도  배스킨_매장수   주민등록인구     종사자수    사업체수\n",
       "0  11320   도봉구  37.665861  127.031767        7  329,300   74,314  18,894\n",
       "1  11380   은평구  37.617612  126.922700       13  485,842   90,049  24,873\n",
       "2  11230  동대문구  37.583801  127.050700        8  358,679  140,748  31,878\n",
       "3  11590   동작구  37.496504  126.944307       10  404,617  112,564  19,916\n",
       "4  11545   금천구  37.460097  126.900155        8  249,641  234,012  32,472"
      ]
     },
     "execution_count": 26,
     "metadata": {},
     "output_type": "execute_result"
    }
   ],
   "source": [
    "# 예제 6-49 서울시 시군구 목록 데이터에 서울시 시군구별 사업체 수 통계 데이터를 병합\n",
    "sgg_bizpath = os.path.join(filepath, 'sgg_biz.xlsx')\n",
    "seoul_sgg_biz = pd.read_excel(sgg_bizpath)\n",
    "seoul_sgg = pd.merge(\n",
    "    seoul_sgg, \n",
    "    seoul_sgg_biz,\n",
    "    how='left',\n",
    "    on='시군구명'\n",
    ")\n",
    "seoul_sgg.head()"
   ]
  },
  {
   "cell_type": "code",
   "execution_count": 27,
   "metadata": {
    "executionInfo": {
     "elapsed": 875,
     "status": "ok",
     "timestamp": 1629368262318,
     "user": {
      "displayName": "김형찬",
      "photoUrl": "",
      "userId": "09956831381256229042"
     },
     "user_tz": -540
    },
    "id": "eTa4wtgr0Vqp"
   },
   "outputs": [],
   "source": [
    "# 예제 6-50 병합 결과를 엑셀 파일로 저장\n",
    "sgg_stat_outpath = os.path.join(filepath, 'seoul_sgg_stat.xlsx')\n",
    "seoul_sgg.to_excel(sgg_stat_outpath, index=False)"
   ]
  },
  {
   "cell_type": "code",
   "execution_count": null,
   "metadata": {},
   "outputs": [],
   "source": []
  }
 ],
 "metadata": {
  "colab": {
   "collapsed_sections": [],
   "name": "6_2_2_Starbucks_Data.ipynb",
   "provenance": []
  },
  "kernelspec": {
   "display_name": "Python 3",
   "language": "python",
   "name": "python3"
  },
  "language_info": {
   "codemirror_mode": {
    "name": "ipython",
    "version": 3
   },
   "file_extension": ".py",
   "mimetype": "text/x-python",
   "name": "python",
   "nbconvert_exporter": "python",
   "pygments_lexer": "ipython3",
   "version": "3.7.10"
  }
 },
 "nbformat": 4,
 "nbformat_minor": 1
}
