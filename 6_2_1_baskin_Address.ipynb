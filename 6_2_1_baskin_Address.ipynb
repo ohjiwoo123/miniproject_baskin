{
 "cells": [
  {
   "cell_type": "code",
   "execution_count": 18,
   "metadata": {
    "executionInfo": {
     "elapsed": 263,
     "status": "ok",
     "timestamp": 1629365700226,
     "user": {
      "displayName": "김형찬",
      "photoUrl": "",
      "userId": "09956831381256229042"
     },
     "user_tz": -540
    },
    "id": "mnlLUSdtzk8Z"
   },
   "outputs": [],
   "source": [
    "filepath = '/Users/jwoh/Desktop/pythonScrolling/DataSciencePython/02_개정판/8_BaskinRobbins_Location/files/seoul_baskin_list2.xlsx'"
   ]
  },
  {
   "cell_type": "markdown",
   "metadata": {
    "id": "b3Lnujr5yCjP"
   },
   "source": [
    "# 6.2 데이터 전처리\n",
    "## 6.2.1 서울시 스타벅스 매장 목록, 인구, 사업체 데이터에 시군구명, 시군구코드 추가"
   ]
  },
  {
   "cell_type": "code",
   "execution_count": 19,
   "metadata": {
    "colab": {
     "base_uri": "https://localhost:8080/",
     "height": 204
    },
    "executionInfo": {
     "elapsed": 238,
     "status": "ok",
     "timestamp": 1629365711307,
     "user": {
      "displayName": "김형찬",
      "photoUrl": "",
      "userId": "09956831381256229042"
     },
     "user_tz": -540
    },
    "id": "1q3uLyBxyCjU",
    "outputId": "94926afe-e2d7-4a64-d857-cbaaa9246d26"
   },
   "outputs": [
    {
     "data": {
      "text/html": [
       "<div>\n",
       "<style scoped>\n",
       "    .dataframe tbody tr th:only-of-type {\n",
       "        vertical-align: middle;\n",
       "    }\n",
       "\n",
       "    .dataframe tbody tr th {\n",
       "        vertical-align: top;\n",
       "    }\n",
       "\n",
       "    .dataframe thead th {\n",
       "        text-align: right;\n",
       "    }\n",
       "</style>\n",
       "<table border=\"1\" class=\"dataframe\">\n",
       "  <thead>\n",
       "    <tr style=\"text-align: right;\">\n",
       "      <th></th>\n",
       "      <th>매장명</th>\n",
       "      <th>영업시간</th>\n",
       "      <th>주소</th>\n",
       "      <th>리뷰 갯수</th>\n",
       "      <th>별점</th>\n",
       "      <th>전화번호</th>\n",
       "      <th>위도</th>\n",
       "      <th>경도</th>\n",
       "    </tr>\n",
       "  </thead>\n",
       "  <tbody>\n",
       "    <tr>\n",
       "      <th>298</th>\n",
       "      <td>배스킨라빈스 은평뉴타운</td>\n",
       "      <td>매일 10:00 ~ 23:00</td>\n",
       "      <td>서울 은평구 진관4로 17</td>\n",
       "      <td>리뷰 0</td>\n",
       "      <td>5.0</td>\n",
       "      <td>02-3157-0031</td>\n",
       "      <td>37.643646</td>\n",
       "      <td>126.922900</td>\n",
       "    </tr>\n",
       "    <tr>\n",
       "      <th>299</th>\n",
       "      <td>배스킨라빈스 중계롯데마트점</td>\n",
       "      <td>NaN</td>\n",
       "      <td>서울 노원구 노원로 330 롯데마트 중계점 지하1층</td>\n",
       "      <td>리뷰 0</td>\n",
       "      <td>0.0</td>\n",
       "      <td>02-932-3132</td>\n",
       "      <td>37.646791</td>\n",
       "      <td>127.070941</td>\n",
       "    </tr>\n",
       "    <tr>\n",
       "      <th>300</th>\n",
       "      <td>배스킨라빈스 명일이마트점</td>\n",
       "      <td>매일 10:00 ~ 23:00</td>\n",
       "      <td>서울 강동구 고덕로 276 이마트 4층</td>\n",
       "      <td>리뷰 0</td>\n",
       "      <td>1.0</td>\n",
       "      <td>02-427-0310</td>\n",
       "      <td>37.554707</td>\n",
       "      <td>127.155613</td>\n",
       "    </tr>\n",
       "    <tr>\n",
       "      <th>301</th>\n",
       "      <td>배스킨라빈스 신도림점</td>\n",
       "      <td>금 10:00 ~ 24:00</td>\n",
       "      <td>서울 구로구 경인로 611-7 큐브스테이트 1층</td>\n",
       "      <td>리뷰 0</td>\n",
       "      <td>0.0</td>\n",
       "      <td>070-7005-3131</td>\n",
       "      <td>37.506416</td>\n",
       "      <td>126.883812</td>\n",
       "    </tr>\n",
       "    <tr>\n",
       "      <th>302</th>\n",
       "      <td>베스킨라빈스 아현뉴타운점</td>\n",
       "      <td>NaN</td>\n",
       "      <td>서울 마포구 마포대로 195</td>\n",
       "      <td>리뷰 0</td>\n",
       "      <td>0.0</td>\n",
       "      <td>02-313-7877</td>\n",
       "      <td>37.552430</td>\n",
       "      <td>126.954305</td>\n",
       "    </tr>\n",
       "  </tbody>\n",
       "</table>\n",
       "</div>"
      ],
      "text/plain": [
       "                매장명              영업시간                            주소 리뷰 갯수  \\\n",
       "298    배스킨라빈스 은평뉴타운  매일 10:00 ~ 23:00                서울 은평구 진관4로 17  리뷰 0   \n",
       "299  배스킨라빈스 중계롯데마트점               NaN  서울 노원구 노원로 330 롯데마트 중계점 지하1층  리뷰 0   \n",
       "300   배스킨라빈스 명일이마트점  매일 10:00 ~ 23:00         서울 강동구 고덕로 276 이마트 4층  리뷰 0   \n",
       "301     배스킨라빈스 신도림점   금 10:00 ~ 24:00    서울 구로구 경인로 611-7 큐브스테이트 1층  리뷰 0   \n",
       "302   베스킨라빈스 아현뉴타운점               NaN               서울 마포구 마포대로 195  리뷰 0   \n",
       "\n",
       "      별점           전화번호         위도          경도  \n",
       "298  5.0   02-3157-0031  37.643646  126.922900  \n",
       "299  0.0    02-932-3132  37.646791  127.070941  \n",
       "300  1.0    02-427-0310  37.554707  127.155613  \n",
       "301  0.0  070-7005-3131  37.506416  126.883812  \n",
       "302  0.0    02-313-7877  37.552430  126.954305  "
      ]
     },
     "execution_count": 19,
     "metadata": {},
     "output_type": "execute_result"
    }
   ],
   "source": [
    "# 예제 6-39  서울시 스타벅스 매장 목록이 담긴 엑셀 파일 불러오기\n",
    "import pandas as pd\n",
    "seoul_starbucks = pd.read_excel(filepath , header=0)\n",
    "seoul_starbucks.tail()"
   ]
  },
  {
   "cell_type": "code",
   "execution_count": 20,
   "metadata": {
    "colab": {
     "base_uri": "https://localhost:8080/",
     "height": 204
    },
    "executionInfo": {
     "elapsed": 224,
     "status": "ok",
     "timestamp": 1629365713656,
     "user": {
      "displayName": "김형찬",
      "photoUrl": "",
      "userId": "09956831381256229042"
     },
     "user_tz": -540
    },
    "id": "i64OE4guyCjX",
    "outputId": "e842ebe1-9779-4f14-f871-c0967c90bfbe"
   },
   "outputs": [
    {
     "data": {
      "text/html": [
       "<div>\n",
       "<style scoped>\n",
       "    .dataframe tbody tr th:only-of-type {\n",
       "        vertical-align: middle;\n",
       "    }\n",
       "\n",
       "    .dataframe tbody tr th {\n",
       "        vertical-align: top;\n",
       "    }\n",
       "\n",
       "    .dataframe thead th {\n",
       "        text-align: right;\n",
       "    }\n",
       "</style>\n",
       "<table border=\"1\" class=\"dataframe\">\n",
       "  <thead>\n",
       "    <tr style=\"text-align: right;\">\n",
       "      <th></th>\n",
       "      <th>매장명</th>\n",
       "      <th>영업시간</th>\n",
       "      <th>주소</th>\n",
       "      <th>리뷰 갯수</th>\n",
       "      <th>별점</th>\n",
       "      <th>전화번호</th>\n",
       "      <th>위도</th>\n",
       "      <th>경도</th>\n",
       "      <th>시군구명</th>\n",
       "    </tr>\n",
       "  </thead>\n",
       "  <tbody>\n",
       "    <tr>\n",
       "      <th>0</th>\n",
       "      <td>배스킨라빈스 BROWN청담점</td>\n",
       "      <td>매일 08:00 ~ 23:00</td>\n",
       "      <td>서울 강남구 도산대로 327 SGF청담타워 3층</td>\n",
       "      <td>리뷰 256</td>\n",
       "      <td>4.2</td>\n",
       "      <td>02-547-1205</td>\n",
       "      <td>37.523120</td>\n",
       "      <td>127.037599</td>\n",
       "      <td>강남구</td>\n",
       "    </tr>\n",
       "    <tr>\n",
       "      <th>1</th>\n",
       "      <td>배스킨라빈스 종로2가점</td>\n",
       "      <td>매일 10:00 ~ 23:00</td>\n",
       "      <td>서울 종로구 종로12길 9</td>\n",
       "      <td>리뷰 15</td>\n",
       "      <td>3.3</td>\n",
       "      <td>02-733-3130</td>\n",
       "      <td>37.569632</td>\n",
       "      <td>126.985908</td>\n",
       "      <td>종로구</td>\n",
       "    </tr>\n",
       "    <tr>\n",
       "      <th>2</th>\n",
       "      <td>배스킨라빈스 세로수길점</td>\n",
       "      <td>매일 10:00 ~ 23:00</td>\n",
       "      <td>서울 강남구 도산대로11길 15 1층</td>\n",
       "      <td>리뷰 31</td>\n",
       "      <td>5.0</td>\n",
       "      <td>02-542-8613</td>\n",
       "      <td>37.518405</td>\n",
       "      <td>127.022378</td>\n",
       "      <td>강남구</td>\n",
       "    </tr>\n",
       "    <tr>\n",
       "      <th>3</th>\n",
       "      <td>배스킨라빈스 강남중앙점</td>\n",
       "      <td>매일 10:00 ~ 23:00</td>\n",
       "      <td>서울 강남구 강남대로96길 9 1층</td>\n",
       "      <td>리뷰 37</td>\n",
       "      <td>2.0</td>\n",
       "      <td>02-563-8588</td>\n",
       "      <td>37.499858</td>\n",
       "      <td>127.027736</td>\n",
       "      <td>강남구</td>\n",
       "    </tr>\n",
       "    <tr>\n",
       "      <th>4</th>\n",
       "      <td>배스킨라빈스 홍대상상마당점</td>\n",
       "      <td>매일 10:00 ~ 24:00</td>\n",
       "      <td>서울 마포구 어울마당로 61</td>\n",
       "      <td>리뷰 14</td>\n",
       "      <td>3.4</td>\n",
       "      <td>02-324-1222</td>\n",
       "      <td>37.550510</td>\n",
       "      <td>126.921004</td>\n",
       "      <td>마포구</td>\n",
       "    </tr>\n",
       "  </tbody>\n",
       "</table>\n",
       "</div>"
      ],
      "text/plain": [
       "               매장명              영업시간                          주소   리뷰 갯수   별점  \\\n",
       "0  배스킨라빈스 BROWN청담점  매일 08:00 ~ 23:00  서울 강남구 도산대로 327 SGF청담타워 3층  리뷰 256  4.2   \n",
       "1     배스킨라빈스 종로2가점  매일 10:00 ~ 23:00              서울 종로구 종로12길 9   리뷰 15  3.3   \n",
       "2     배스킨라빈스 세로수길점  매일 10:00 ~ 23:00        서울 강남구 도산대로11길 15 1층   리뷰 31  5.0   \n",
       "3     배스킨라빈스 강남중앙점  매일 10:00 ~ 23:00         서울 강남구 강남대로96길 9 1층   리뷰 37  2.0   \n",
       "4   배스킨라빈스 홍대상상마당점  매일 10:00 ~ 24:00             서울 마포구 어울마당로 61   리뷰 14  3.4   \n",
       "\n",
       "          전화번호         위도          경도 시군구명  \n",
       "0  02-547-1205  37.523120  127.037599  강남구  \n",
       "1  02-733-3130  37.569632  126.985908  종로구  \n",
       "2  02-542-8613  37.518405  127.022378  강남구  \n",
       "3  02-563-8588  37.499858  127.027736  강남구  \n",
       "4  02-324-1222  37.550510  126.921004  마포구  "
      ]
     },
     "execution_count": 20,
     "metadata": {},
     "output_type": "execute_result"
    }
   ],
   "source": [
    "# 예제 6-40 스타벅스 주소 정보에서 시군구명 추출\n",
    "sgg_names = []\n",
    "for address in seoul_starbucks['주소']:\n",
    "    sgg = address.split()[1]\n",
    "    sgg_names.append(sgg)\n",
    "seoul_starbucks['시군구명'] = sgg_names\n",
    "seoul_starbucks.head()"
   ]
  },
  {
   "cell_type": "code",
   "execution_count": 21,
   "metadata": {
    "executionInfo": {
     "elapsed": 581,
     "status": "ok",
     "timestamp": 1629365732170,
     "user": {
      "displayName": "김형찬",
      "photoUrl": "",
      "userId": "09956831381256229042"
     },
     "user_tz": -540
    },
    "id": "JG7xCH7lyCjZ"
   },
   "outputs": [],
   "source": [
    "# 예제 6-41 엑셀로 저장\n",
    "seoul_starbucks.to_excel(filepath, index=False)"
   ]
  },
  {
   "cell_type": "code",
   "execution_count": null,
   "metadata": {
    "id": "D0-Yn-lXyCja"
   },
   "outputs": [],
   "source": []
  }
 ],
 "metadata": {
  "colab": {
   "collapsed_sections": [],
   "name": "6_2_1_Starbucks_Address.ipynb",
   "provenance": []
  },
  "kernelspec": {
   "display_name": "Python 3",
   "language": "python",
   "name": "python3"
  },
  "language_info": {
   "codemirror_mode": {
    "name": "ipython",
    "version": 3
   },
   "file_extension": ".py",
   "mimetype": "text/x-python",
   "name": "python",
   "nbconvert_exporter": "python",
   "pygments_lexer": "ipython3",
   "version": "3.7.10"
  }
 },
 "nbformat": 4,
 "nbformat_minor": 1
}
